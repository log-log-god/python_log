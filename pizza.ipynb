{
 "cells": [
  {
   "cell_type": "code",
   "execution_count": 5,
   "metadata": {},
   "outputs": [
    {
     "name": "stdout",
     "output_type": "stream",
     "text": [
      "페페로니 피자 (3000) 원\n",
      "치즈피자 (3200) 원\n",
      "콤비네이션 피자 (3500) 원\n",
      "불고기 피자 (3600) 원\n",
      "해산물 피자 (3800) 원\n"
     ]
    }
   ],
   "source": [
    "pizza_menu = {'페페로니 피자': 3000, \n",
    "              '치즈피자': 3200, \n",
    "              '콤비네이션 피자': 3500, \n",
    "              '불고기 피자': 3600, \n",
    "              '해산물 피자': 3800}\n",
    "order = {}\n",
    "for name, price in pizza_menu.items():\n",
    "    print(f'{name} ({price}) 원')\n",
    "\n",
    "while True:\n",
    "    p_name = input('메뉴 이름 입력하세요(종료: 0)')\n",
    "    if p_name == '0':\n",
    "        pass\n",
    "    elif p_name in pizza_menu:\n",
    "        count = int(input('수량을 입력하세요: '))\n",
    "        order[p_name] = count           # 딕셔너리에 데이터 삽입\n",
    "        print('주문 완료')\n",
    "    elif p_name == 'exit':\n",
    "        break\n",
    "\n",
    "print(order)\n"
   ]
  },
  {
   "cell_type": "code",
   "execution_count": null,
   "metadata": {},
   "outputs": [
    {
     "name": "stdout",
     "output_type": "stream",
     "text": [
      "콜라 (1500) 원\n",
      "사이다 (1500) 원\n",
      "생수 (1000) 원\n"
     ]
    }
   ],
   "source": [
    "drink_menu = {'콜라': 1500, \n",
    "              '사이다': 1500, \n",
    "              '생수': 1000}\n",
    "order = {}\n",
    "for name, price in drink_menu.items():\n",
    "    print(f'{name} ({price}) 원')\n",
    "\n",
    "while True:\n",
    "    d_name = input('메뉴 이름 입력하시오 (종료: 0)')\n",
    "    if d_name == '0':\n",
    "        pass\n",
    "    elif d_name in drink_menu:\n",
    "        count = int(input('수량을 입력하세요: '))\n",
    "        order[d_name] = count\n",
    "        print('주문 완료')\n",
    "    elif d_name == 'exit':\n",
    "        break"
   ]
  }
 ],
 "metadata": {
  "kernelspec": {
   "display_name": "Python 3",
   "language": "python",
   "name": "python3"
  },
  "language_info": {
   "codemirror_mode": {
    "name": "ipython",
    "version": 3
   },
   "file_extension": ".py",
   "mimetype": "text/x-python",
   "name": "python",
   "nbconvert_exporter": "python",
   "pygments_lexer": "ipython3",
   "version": "3.13.1"
  }
 },
 "nbformat": 4,
 "nbformat_minor": 2
}
