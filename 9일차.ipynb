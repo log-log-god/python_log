{
 "cells": [
  {
   "cell_type": "code",
   "execution_count": null,
   "metadata": {},
   "outputs": [],
   "source": [
    "print('로그로그')\n"
   ]
  },
  {
   "cell_type": "code",
   "execution_count": 3,
   "metadata": {},
   "outputs": [
    {
     "name": "stdout",
     "output_type": "stream",
     "text": [
      "사각형 넓이 = 50\n",
      "사각형 넓이 = 25.0\n"
     ]
    }
   ],
   "source": [
    "def rectArea(width, height):\n",
    "    # a = width * height\n",
    "    return width * height\n",
    "\n",
    "def triArea(base, height):\n",
    "    return base * height/2\n",
    "\n",
    "\n",
    "\n",
    "print(f'사각형 넓이 = {rectArea(5,10)}')\n",
    "print(f'삼각형 넓이 = {triArea(5,10)}')"
   ]
  }
 ],
 "metadata": {
  "kernelspec": {
   "display_name": "Python 3",
   "language": "python",
   "name": "python3"
  },
  "language_info": {
   "codemirror_mode": {
    "name": "ipython",
    "version": 3
   },
   "file_extension": ".py",
   "mimetype": "text/x-python",
   "name": "python",
   "nbconvert_exporter": "python",
   "pygments_lexer": "ipython3",
   "version": "3.13.1"
  }
 },
 "nbformat": 4,
 "nbformat_minor": 2
}
